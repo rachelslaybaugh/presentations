{
 "metadata": {
  "name": "",
  "signature": "sha256:15570dfc490f3053ba77b88925fa60758aa2dc9294822f8764d164a9c1790427"
 },
 "nbformat": 3,
 "nbformat_minor": 0,
 "worksheets": [
  {
   "cells": [
    {
     "cell_type": "markdown",
     "metadata": {},
     "source": [
      "#ENSDF decay data\n",
      "There is a basic ENSDF data interface (excluded here for previtity), and there is also an extended interface that provides access to a large portion of the decay data in the ENSDF dataset. For example, lets look at Cs-137:"
     ]
    },
    {
     "cell_type": "code",
     "collapsed": false,
     "input": [
      "from pyne import data\n",
      "\n",
      "# we can look up most decay data by parent or by decay energy\n",
      "# returns a list of gamma ray level pairs from ENSDF decay data using a given parent's state id.\n",
      "decay_pairs = data.gamma_from_to_byparent(551370000)\n",
      "\n",
      "print \"\\nDecay pairs:\", decay_pairs, \"\\n\"\n",
      "\n",
      "# this resturns a list of gamma ray energies (and errors) given a parent\n",
      "energies = data.gamma_energy(551370000)\n",
      "\n",
      "print \"Energies:\", energies, \"\\n\""
     ],
     "language": "python",
     "metadata": {},
     "outputs": [
      {
       "output_type": "stream",
       "stream": "stdout",
       "text": [
        "\n",
        "Decay pairs: [(561370001, 561370000), (561370002, 561370000)] \n",
        "\n",
        "Energies: [(283.5, 0.1), (661.657, 0.003)] \n",
        "\n"
       ]
      },
      {
       "output_type": "stream",
       "stream": "stderr",
       "text": [
        "Vendor:  Continuum Analytics, Inc.\n",
        "Package: mkl\n",
        "Message: trial mode expires in 29 days\n",
        "-c:1: VnVWarning: pyne.nucname is not yet V&V compliant.\n",
        "-c:1: VnVWarning: pyne.data is not yet V&V compliant.\n"
       ]
      }
     ],
     "prompt_number": 2
    },
    {
     "cell_type": "code",
     "collapsed": false,
     "input": [
      "# these are just relative intensities (and errors)\n",
      "p_intensities = data.gamma_photon_intensity(551370000)\n",
      "\n",
      "print \"\\nPhoton intensities:\", p_intensities, \"\\n\"\n",
      "\n",
      "# This converts the relative intensities to decays per 100 decays of the parent\n",
      "photon_br, photon_br_error = data.decay_photon_branch_ratio(551370000,561370000)\n",
      "p_final_intensities = []\n",
      "\n",
      "print \"Photon branch ratio:\", photon_br, \"\\n\"\n",
      "\n",
      "for item in p_intensities:\n",
      "    # compute the intensities ignore the errors (for now)\n",
      "    p_final_intensities.append(photon_br*item[0])\n",
      "\n",
      "print \"Photon final intensities:\", p_final_intensities, \"\\n\"\n",
      "\n",
      "     \n",
      "# Alpha intensities are a bit trickier\n",
      "from pyne import rxname\n",
      "\n",
      "# This is just intensity per 100 alpha decays of U-229 with no errors (yet)\n",
      "a_intensities = data.alpha_intensity(922290000)\n",
      "\n",
      "print \"\\nAlpha intensities:\", a_intensities, \"\\n\"\n",
      "\n",
      "# Find the alpha branch intensity\n",
      "a_br = data.branch_ratio(922290000,rxname.child(922290000,'a','decay'))\n",
      "\n",
      "print \"Alpha branch ratio:\", a_br, \"\\n\"\n",
      "\n",
      "# Calculate the intensities of each alpha per 100 decays of the parent\n",
      "a_final_intensities = []\n",
      "for item in a_intensities:\n",
      "    a_final_intensities.append(a_br*item)\n",
      "    \n",
      "print \"Alpha final intensities:\", a_final_intensities, \"\\n\""
     ],
     "language": "python",
     "metadata": {},
     "outputs": [
      {
       "output_type": "stream",
       "stream": "stdout",
       "text": [
        "\n",
        "Photon intensities: [(0.00058, 8e-05), (85.1, 0.2)] \n",
        "\n",
        "Photon branch ratio: 1.0 \n",
        "\n",
        "Photon final intensities: [0.00058, 85.1] \n",
        "\n",
        "\n",
        "Alpha intensities: [1.0, 3.0, 1.0, 11.0, 20.0, 64.0] \n",
        "\n",
        "Alpha branch ratio: 0.2 \n",
        "\n",
        "Alpha final intensities: [0.2, 0.6000000000000001, 0.2, 2.2, 4.0, 12.8] \n",
        "\n"
       ]
      }
     ],
     "prompt_number": 6
    },
    {
     "cell_type": "markdown",
     "metadata": {},
     "source": [
      "## Another possible use is the search for candidate gamma rays"
     ]
    },
    {
     "cell_type": "code",
     "collapsed": false,
     "input": [
      "# The default range is +- 1 keV, which returns a lot of stuff\n",
      "possible_parents = data.gamma_parent(661.657)\n",
      "print \"\\nThere are\", len(possible_parents), \"possible parents\\n\"\n",
      "\n",
      "# this returns gamma ray level pairs based on gamma ray energy\n",
      "from_to = data.gamma_from_to_byen(661.657)\n",
      "\n",
      "# a list of gamma ray intensities from a given gamma ray energy\n",
      "intensity_list = data.gamma_photon_intensity_byen(661.657)"
     ],
     "language": "python",
     "metadata": {},
     "outputs": [
      {
       "output_type": "stream",
       "stream": "stdout",
       "text": [
        "\n",
        "There are 865 possible parents\n",
        "\n"
       ]
      }
     ],
     "prompt_number": 8
    },
    {
     "cell_type": "code",
     "collapsed": false,
     "input": [
      "# we can downselect this\n",
      "import numpy as np\n",
      "from pyne import nucname\n",
      "half_life_s = []\n",
      "final_ints = []\n",
      "parents = []\n",
      "\n",
      "for i, item in enumerate(possible_parents):\n",
      "    # gammas that don't have from-to pairs get lost here\n",
      "    p_br = data.decay_photon_branch_ratio(item,nucname.groundstate(from_to[i][0]))\n",
      "\n",
      "    # Select items that have non-zero branch ratios + intensities over 5% of all decays + half lives over 10 days\n",
      "    if p_br[0] > 0.0 and intensity_list[i][0]*p_br[0] > 5.0:\n",
      "        if nucname.groundstate(from_to[i][0]) != item and data.half_life(item,False) > 60.*60.*24.*10.:\n",
      "            parents.append(item)\n",
      "            half_life_s.append(data.half_life(item,False))\n",
      "            final_ints.append(intensity_list[i][0]*p_br[0])\n",
      "\n",
      "# now we have a managably short list\n",
      "for i, item in enumerate(parents):\n",
      "    print(\"possible candidate: {0}\".format(nucname.name(item)))\n",
      "    print(\"half life: {0} s/ {1} days/ {2} years\".\n",
      "          format(half_life_s[i],half_life_s[i]/(60.*60.*24.),half_life_s[i]/(60.*60.*24.*365.25)))\n",
      "    print(\"intensity: {0} %\".format(final_ints[i]))\n",
      "    print(\"################################################################\")\n",
      "    "
     ],
     "language": "python",
     "metadata": {},
     "outputs": [
      {
       "output_type": "stream",
       "stream": "stdout",
       "text": [
        "possible candidate: Cs137\n",
        "half life: 949252608.0 s/ 10986.72 days/ 30.08 years\n",
        "intensity: 85.1 %\n",
        "################################################################\n",
        "possible candidate: I126\n",
        "half life: 1117152.0 s/ 12.93 days/ 0.0354004106776 years\n",
        "intensity: 32.8848 %\n",
        "################################################################\n",
        "possible candidate: Sb126\n",
        "half life: 1067040.0 s/ 12.35 days/ 0.0338124572211 years\n",
        "intensity: 85.6732 %\n",
        "################################################################\n"
       ]
      }
     ],
     "prompt_number": 9
    }
   ],
   "metadata": {}
  }
 ]
}